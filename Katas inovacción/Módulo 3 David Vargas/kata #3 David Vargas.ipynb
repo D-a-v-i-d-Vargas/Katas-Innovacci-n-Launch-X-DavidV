{
 "cells": [
  {
   "cell_type": "markdown",
   "metadata": {},
   "source": [
    "# Velocidad del asteroide problema 1 "
   ]
  },
  {
   "cell_type": "code",
   "execution_count": 1,
   "metadata": {},
   "outputs": [
    {
     "name": "stdout",
     "output_type": "stream",
     "text": [
      "Cuidado el Asteroide viene en Plan Rapido y Furioso... Mejor cambie el curso yaaaaaaa\n"
     ]
    }
   ],
   "source": [
    "Asteroide = 49\n",
    "\n",
    "if Asteroide >25:\n",
    "\n",
    "    print(\"Cuidado el Asteroide viene en Plan Rapido y Furioso... Mejor cambie el curso yaaaaaaa\")\n",
    "else: \n",
    "    Asteroide <= 25\n",
    "    print(\"No pasa nada el Asteroide lleva una velocidad segura usted siga sus labores buen día\") "
   ]
  },
  {
   "cell_type": "markdown",
   "metadata": {},
   "source": [
    "# Problema 2"
   ]
  },
  {
   "cell_type": "code",
   "execution_count": 2,
   "metadata": {},
   "outputs": [
    {
     "name": "stdout",
     "output_type": "stream",
     "text": [
      "No te preocupes por ti, aqui todo sigue igual\n"
     ]
    }
   ],
   "source": [
    "Asteroide = 19 \n",
    "\n",
    "if Asteroide > 20:\n",
    "    print(\"En estos momentos se podrá observar una luz en el cielo, por favor mantenga la calma\")\n",
    "elif Asteroide == 20:\n",
    "    print(\"En estos momentos se podrá observar una luz en el cielo, por favor mantenga la calma\")\n",
    "else:\n",
    "    Asteroide <= 19\n",
    "    print(\"No te preocupes por ti, aqui todo sigue igual\")"
   ]
  },
  {
   "cell_type": "markdown",
   "metadata": {},
   "source": [
    "# Problema 3"
   ]
  },
  {
   "cell_type": "code",
   "execution_count": 3,
   "metadata": {},
   "outputs": [
    {
     "name": "stdout",
     "output_type": "stream",
     "text": [
      "En estos momentos se podrá observar una luz en el cielo, por favor mantenga la calma\n"
     ]
    }
   ],
   "source": [
    "Velocidad = 25\n",
    "Tamaño = 40\n",
    "\n",
    "if Velocidad > 25 and Tamaño > 25:\n",
    "    print(\"¡Cuidado! Un asteroide de gran magnitud se acerca peligrosamente,se aconseja buscar refugio\")\n",
    "elif Velocidad >= 20:\n",
    "    print(\"En estos momentos se podrá observar una luz en el cielo, por favor mantenga la calma\")\n",
    "elif Tamaño < 25:\n",
    "    print(\"No te preocupes por ti, aqui todo sigue igual\")\n",
    "else:\n",
    "    Tamaño <= 24 and Velocidad <= 19\n",
    "    print(\"No te preocupes por ti, aqui todo sigue igual\")"
   ]
  },
  {
   "cell_type": "markdown",
   "metadata": {},
   "source": [
    "# p.d. espero que no esten molestos por como puse mis \"scripts\" queria hacer mi trabajo un poco mas divertido y pues ya son las 2 a.m. de cualquier modo agradezco cualquier feedback y en caso de ser necesario lo puedo poner mas formal, gracias como siempre por leer. "
   ]
  }
 ],
 "metadata": {
  "interpreter": {
   "hash": "c2798557735114165cac7f83b8cc41a29c5c3ec02b75b6e55a215935abc54ba6"
  },
  "kernelspec": {
   "display_name": "Python 3.10.2 64-bit",
   "language": "python",
   "name": "python3"
  },
  "language_info": {
   "codemirror_mode": {
    "name": "ipython",
    "version": 3
   },
   "file_extension": ".py",
   "mimetype": "text/x-python",
   "name": "python",
   "nbconvert_exporter": "python",
   "pygments_lexer": "ipython3",
   "version": "3.10.2"
  },
  "orig_nbformat": 4
 },
 "nbformat": 4,
 "nbformat_minor": 2
}
