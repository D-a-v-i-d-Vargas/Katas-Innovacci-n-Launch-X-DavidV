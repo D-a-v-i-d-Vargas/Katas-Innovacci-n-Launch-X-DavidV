{
 "cells": [
  {
   "cell_type": "markdown",
   "metadata": {},
   "source": [
    "## Kata 2 y sus pasos "
   ]
  },
  {
   "cell_type": "markdown",
   "metadata": {},
   "source": [
    "# Paso 1 "
   ]
  },
  {
   "cell_type": "markdown",
   "metadata": {},
   "source": [
    "![Imagen](https://dsm01pap001files.storage.live.com/y4mtaNkb_oDmQ1UmyioYinMJtCm-4Aaew1I9W-aQi3D2ce1YMiA3tuB76_pnRjxteuRKX9EAvKP-nz9kJ2ueK16Wok0uPA204OpF7sTMlE5yLHlG6f7yrm9WCCH_9Z__9VXE40IaG75HlEMKJODCXwklbuDpRixOzrQoK8tZPH-n4VNEb2cSnyp7l9kaVK9VhsO?width=1010&height=523&cropmode=none)"
   ]
  },
  {
   "cell_type": "markdown",
   "metadata": {},
   "source": [
    "# Paso 2 "
   ]
  },
  {
   "cell_type": "markdown",
   "metadata": {},
   "source": [
    "![Imagen](https://dsm01pap001files.storage.live.com/y4mMU8Wu1w_JPxfKiWwx8cz8ED5RqAgJUhYOetopk1zP-UpDPS1sHyTQfqqej57-E_akO0gef1y-V8aspyBK7UmZKEvixGWugQLbWwPHMSAKBwB1JRsNxAhZmb4RapX0bPj4vilOJtFnWj7xPDZL6R_C_2Qjdj2V1j6U5O_oRZ0Hnb0VFthBtNG13hv2C7cqFmE?width=1015&height=558&cropmode=none)"
   ]
  },
  {
   "cell_type": "markdown",
   "metadata": {},
   "source": [
    "# Paso 3 "
   ]
  },
  {
   "cell_type": "markdown",
   "metadata": {},
   "source": [
    "![Imagen](https://dsm01pap001files.storage.live.com/y4m3ALd7gFeOQUC_IRaV-amcctrU7AKBOiniIg5Oyxas4nBVZdKztM9RxMOcPijoP7HXQlQbHLYPkinJwix50iaVB7VUIg2MERPOWkcDsbPBgo4yo59iTDyVcVycFWvPOdXWjdhFXvPvtItptWP1Bf6ZECVQW3hfhG57hZlwvIKS2aTly4jNKTXP-p0fzEHTUek?width=988&height=538&cropmode=none)"
   ]
  },
  {
   "cell_type": "markdown",
   "metadata": {},
   "source": [
    "# Paso 4 "
   ]
  },
  {
   "cell_type": "markdown",
   "metadata": {},
   "source": [
    "![Imagen](https://dsm01pap001files.storage.live.com/y4mRy9yXjswW9Xwe5Fricva4FyXZhdjxkft8o2Y5N2xek5WytFEZ5oct0wAV9EL5rLMHgAzpveFa8HkdHmim5sYok5uzpL3LO_qzAdwkQgCRL-tntFvKTZg6IbuP8sexDQNBmeNLmMyszf2mAfYjBUUI2Mhmb_X4Phs6-OnaKBEje-AgaD3TFvcp_XfMT0Of_IO?width=1001&height=548&cropmode=none)"
   ]
  },
  {
   "cell_type": "markdown",
   "metadata": {},
   "source": [
    "# Me gustaría agregar solo como comentario que para poner las \"Benditas\" imagenes tuve que crear un link para poder agregarlas aca, porque en verdad quería que quedara en un notebook, como lo hace nuestra comander pero ... nunca pude ponerlo desde mi computadora, agradecería bastante si en la proxima clase nos pudieran explicar y como siempre gracias por leer esto, saludos. \n",
    ";)  "
   ]
  }
 ],
 "metadata": {
  "interpreter": {
   "hash": "c2798557735114165cac7f83b8cc41a29c5c3ec02b75b6e55a215935abc54ba6"
  },
  "kernelspec": {
   "display_name": "Python 3.10.2 64-bit",
   "language": "python",
   "name": "python3"
  },
  "language_info": {
   "codemirror_mode": {
    "name": "ipython",
    "version": 3
   },
   "file_extension": ".py",
   "mimetype": "text/x-python",
   "name": "python",
   "nbconvert_exporter": "python",
   "pygments_lexer": "ipython3",
   "version": "3.10.2"
  },
  "orig_nbformat": 4
 },
 "nbformat": 4,
 "nbformat_minor": 2
}
