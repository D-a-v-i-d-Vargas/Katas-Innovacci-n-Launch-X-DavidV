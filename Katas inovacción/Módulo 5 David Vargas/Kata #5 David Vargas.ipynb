{
 "cells": [
  {
   "cell_type": "markdown",
   "metadata": {},
   "source": [
    "# Kata 5 Ejercicio Uno"
   ]
  },
  {
   "cell_type": "code",
   "execution_count": 1,
   "metadata": {},
   "outputs": [],
   "source": [
    "# Datos\n",
    "Planeta1 = 149597870 \n",
    "Planeta2 = 778547200 \n"
   ]
  },
  {
   "cell_type": "code",
   "execution_count": 2,
   "metadata": {},
   "outputs": [
    {
     "name": "stdout",
     "output_type": "stream",
     "text": [
      "628949330\n"
     ]
    }
   ],
   "source": [
    "Distancia = Planeta2 - Planeta1\n",
    "print(Distancia)"
   ]
  },
  {
   "cell_type": "code",
   "execution_count": 3,
   "metadata": {},
   "outputs": [
    {
     "data": {
      "text/plain": [
       "390577534"
      ]
     },
     "execution_count": 3,
     "metadata": {},
     "output_type": "execute_result"
    }
   ],
   "source": [
    "Distancia_millas = Distancia *0.621\n",
    "round (Distancia_millas)\n"
   ]
  },
  {
   "cell_type": "markdown",
   "metadata": {},
   "source": [
    "# Ejercicio #2"
   ]
  },
  {
   "cell_type": "code",
   "execution_count": 4,
   "metadata": {},
   "outputs": [],
   "source": [
    "Planeta1 = input('Distancia desde el sol al plantea 1 en KM')\n",
    "Planeta2 = input('Distancia desde el sol al planeta 2 en KM')"
   ]
  },
  {
   "cell_type": "code",
   "execution_count": 5,
   "metadata": {},
   "outputs": [],
   "source": [
    "Planeta1 = int(Planeta1)\n",
    "Planeta2 = int(Planeta2)"
   ]
  },
  {
   "cell_type": "code",
   "execution_count": 6,
   "metadata": {},
   "outputs": [
    {
     "name": "stdout",
     "output_type": "stream",
     "text": [
      "1205600000\n"
     ]
    }
   ],
   "source": [
    "Distancia = Planeta2 - Planeta1\n",
    "print(Distancia)"
   ]
  },
  {
   "cell_type": "code",
   "execution_count": 7,
   "metadata": {},
   "outputs": [
    {
     "name": "stdout",
     "output_type": "stream",
     "text": [
      "748677600.0\n"
     ]
    }
   ],
   "source": [
    "Distancia_millas = Distancia * 0.621\n",
    "print(abs(Distancia_millas))"
   ]
  }
 ],
 "metadata": {
  "interpreter": {
   "hash": "c2798557735114165cac7f83b8cc41a29c5c3ec02b75b6e55a215935abc54ba6"
  },
  "kernelspec": {
   "display_name": "Python 3.10.2 64-bit",
   "language": "python",
   "name": "python3"
  },
  "language_info": {
   "codemirror_mode": {
    "name": "ipython",
    "version": 3
   },
   "file_extension": ".py",
   "mimetype": "text/x-python",
   "name": "python",
   "nbconvert_exporter": "python",
   "pygments_lexer": "ipython3",
   "version": "3.10.2"
  },
  "orig_nbformat": 4
 },
 "nbformat": 4,
 "nbformat_minor": 2
}
